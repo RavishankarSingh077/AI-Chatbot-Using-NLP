{
 "cells": [
  {
   "cell_type": "code",
   "execution_count": 5,
   "id": "506c2878-f83c-47af-9b4d-eaf63ddfab30",
   "metadata": {},
   "outputs": [],
   "source": [
    "import nltk\n",
    "from nltk.chat.util import Chat, reflections"
   ]
  },
  {
   "cell_type": "code",
   "execution_count": null,
   "id": "318a97dd-b77e-4050-b11a-36e416e78696",
   "metadata": {},
   "outputs": [
    {
     "name": "stdout",
     "output_type": "stream",
     "text": [
      "Hello! I'm a simple chatbot. You can ask me anything. Type 'quit' to close\n"
     ]
    }
   ],
   "source": [
    "# Define pairs of patterns and responses\n",
    "pairs = [\n",
    "[\n",
    "    r\"my name is (.*)\",\n",
    "    [\"Hello %1! How canI help you today?\",]\n",
    "],\n",
    "[\n",
    "    r\"what is your name\",\n",
    "    [\"I am a chatbot. You can call me ChatGPT.\",]\n",
    "],\n",
    "[\n",
    "    r\"how are you\",\n",
    "    [\"I'm good, thank you! How about you?\",]\n",
    "],\n",
    "[\n",
    "    r\"(.*) (hungry|tired|bored|happy)\",\n",
    "    [\"I'm glad to hear that! How canI assist you?\",]\n",
    "],\n",
    "[\n",
    "    r\"quit\",\n",
    "    [\"Goodbye! If you have more questions, feel free to ask.\",]\n",
    "],\n",
    "[\n",
    "    r\"(.*)\",\n",
    "    [\"I'm sorry,I don't understand. Can you please rephrase or ask something\"]\n",
    "] \n",
    "]\n",
    "#Create a Chat instance\n",
    "chatbot = Chat(pairs, reflections)\n",
    "# Run the chatbot\n",
    "def chatbot_run( ):\n",
    "    print(\"Hello! I'm a simple chatbot. You can ask me anything. Type 'quit' to close\")\n",
    "    chatbot.converse()\n",
    "if __name__ == \"__main__\":\n",
    "    chatbot_run()\n"
   ]
  },
  {
   "cell_type": "code",
   "execution_count": null,
   "id": "da24a9dd-6915-4cc7-a0ab-47875d1b388d",
   "metadata": {},
   "outputs": [],
   "source": []
  }
 ],
 "metadata": {
  "kernelspec": {
   "display_name": "Python 3 (ipykernel)",
   "language": "python",
   "name": "python3"
  },
  "language_info": {
   "codemirror_mode": {
    "name": "ipython",
    "version": 3
   },
   "file_extension": ".py",
   "mimetype": "text/x-python",
   "name": "python",
   "nbconvert_exporter": "python",
   "pygments_lexer": "ipython3",
   "version": "3.12.0"
  }
 },
 "nbformat": 4,
 "nbformat_minor": 5
}
